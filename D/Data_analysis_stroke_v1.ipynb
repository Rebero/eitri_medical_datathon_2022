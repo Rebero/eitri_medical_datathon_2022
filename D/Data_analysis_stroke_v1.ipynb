{
 "cells": [
  {
   "cell_type": "code",
   "execution_count": 1,
   "metadata": {},
   "outputs": [],
   "source": [
    "import pandas\n",
    "import os"
   ]
  },
  {
   "cell_type": "code",
   "execution_count": null,
   "metadata": {},
   "outputs": [],
   "source": [
    "os.getcwd()\n",
    "\n",
    "Downloads/Datathon1709.csv"
   ]
  },
  {
   "cell_type": "code",
   "execution_count": 34,
   "metadata": {},
   "outputs": [
    {
     "name": "stderr",
     "output_type": "stream",
     "text": [
      "c:\\Miniconda\\envs\\py38_default\\lib\\site-packages\\IPython\\core\\interactiveshell.py:3145: DtypeWarning: Columns (63,65,91,97,99,101,105,107,117,144,154,210,222,223,238,240,245,246,247,251,257,274,286,287,288,295,299,305,343,349,360,366,398,400,409,410,420,424,425,426,427,431,433,439,440,453,460,467,474,479,486,493,494,500,501,508,515,531,532,538,539,545,552,559,566,572,573,592,599,606,621,625,664,689,711,721,731,741,751,761,771,781,791,801,811,821,840,850,860,870,920,930,950,951,960,996,1030,1081,1116,1117,1179,1185,1187) have mixed types.Specify dtype option on import or set low_memory=False.\n",
      "  has_raised = await self.run_ast_nodes(code_ast.body, cell_name,\n"
     ]
    }
   ],
   "source": [
    "df = pandas.read_csv('C:\\\\Users\\\\datathonadmin\\\\Downloads\\\\Datathon1709.csv', encoding = 'unicode_escape')"
   ]
  },
  {
   "cell_type": "code",
   "execution_count": null,
   "metadata": {},
   "outputs": [],
   "source": [
    "df.head()"
   ]
  },
  {
   "cell_type": "code",
   "execution_count": 35,
   "metadata": {},
   "outputs": [
    {
     "data": {
      "text/html": [
       "<div>\n",
       "<style scoped>\n",
       "    .dataframe tbody tr th:only-of-type {\n",
       "        vertical-align: middle;\n",
       "    }\n",
       "\n",
       "    .dataframe tbody tr th {\n",
       "        vertical-align: top;\n",
       "    }\n",
       "\n",
       "    .dataframe thead th {\n",
       "        text-align: right;\n",
       "    }\n",
       "</style>\n",
       "<table border=\"1\" class=\"dataframe\">\n",
       "  <thead>\n",
       "    <tr style=\"text-align: right;\">\n",
       "      <th></th>\n",
       "      <th>autoid</th>\n",
       "      <th>xtskjvdt</th>\n",
       "      <th>xnorsys</th>\n",
       "      <th>xsykehus</th>\n",
       "      <th>tidiktdold</th>\n",
       "      <th>tidiktk</th>\n",
       "      <th>tidsykd</th>\n",
       "      <th>tidsykk</th>\n",
       "      <th>tidlegd</th>\n",
       "      <th>tidlegk</th>\n",
       "      <th>...</th>\n",
       "      <th>amiktol0dk</th>\n",
       "      <th>miktol0dk</th>\n",
       "      <th>hourol06</th>\n",
       "      <th>qtiktol0min</th>\n",
       "      <th>tiktol0min</th>\n",
       "      <th>iktmott</th>\n",
       "      <th>iktusdoor</th>\n",
       "      <th>doorneedle</th>\n",
       "      <th>aar</th>\n",
       "      <th>newid</th>\n",
       "    </tr>\n",
       "  </thead>\n",
       "  <tbody>\n",
       "    <tr>\n",
       "      <th>count</th>\n",
       "      <td>3956.000000</td>\n",
       "      <td>1.018000e+03</td>\n",
       "      <td>344.000000</td>\n",
       "      <td>428.000000</td>\n",
       "      <td>50.00000</td>\n",
       "      <td>5029.000000</td>\n",
       "      <td>7434.000000</td>\n",
       "      <td>5809.000000</td>\n",
       "      <td>2937.000000</td>\n",
       "      <td>2434.000000</td>\n",
       "      <td>...</td>\n",
       "      <td>3233.000000</td>\n",
       "      <td>3233.000000</td>\n",
       "      <td>8.530000e+02</td>\n",
       "      <td>4.086000e+03</td>\n",
       "      <td>4066.000000</td>\n",
       "      <td>4066.000000</td>\n",
       "      <td>5.024000e+03</td>\n",
       "      <td>1389.000000</td>\n",
       "      <td>7544.000000</td>\n",
       "      <td>7577.000000</td>\n",
       "    </tr>\n",
       "    <tr>\n",
       "      <th>mean</th>\n",
       "      <td>1987.387513</td>\n",
       "      <td>2.004117e+07</td>\n",
       "      <td>176.784884</td>\n",
       "      <td>0.890187</td>\n",
       "      <td>84811.28000</td>\n",
       "      <td>1314.414794</td>\n",
       "      <td>156146.187517</td>\n",
       "      <td>1414.059391</td>\n",
       "      <td>152164.019748</td>\n",
       "      <td>1459.189811</td>\n",
       "      <td>...</td>\n",
       "      <td>150.225184</td>\n",
       "      <td>150.121868</td>\n",
       "      <td>1.142382e+06</td>\n",
       "      <td>2.386044e+05</td>\n",
       "      <td>680.121987</td>\n",
       "      <td>680.121987</td>\n",
       "      <td>6.533536e+04</td>\n",
       "      <td>-3.755355</td>\n",
       "      <td>2013.654162</td>\n",
       "      <td>3389.966346</td>\n",
       "    </tr>\n",
       "    <tr>\n",
       "      <th>std</th>\n",
       "      <td>1156.419335</td>\n",
       "      <td>6.205802e+05</td>\n",
       "      <td>113.369440</td>\n",
       "      <td>0.320417</td>\n",
       "      <td>108183.71659</td>\n",
       "      <td>536.456195</td>\n",
       "      <td>87966.621747</td>\n",
       "      <td>517.563332</td>\n",
       "      <td>88658.071684</td>\n",
       "      <td>576.435391</td>\n",
       "      <td>...</td>\n",
       "      <td>193.047826</td>\n",
       "      <td>193.043102</td>\n",
       "      <td>3.241570e+07</td>\n",
       "      <td>1.481128e+07</td>\n",
       "      <td>1976.970523</td>\n",
       "      <td>1976.970523</td>\n",
       "      <td>1.599264e+07</td>\n",
       "      <td>789.367252</td>\n",
       "      <td>4.116085</td>\n",
       "      <td>1957.873688</td>\n",
       "    </tr>\n",
       "    <tr>\n",
       "      <th>min</th>\n",
       "      <td>1.000000</td>\n",
       "      <td>2.603190e+05</td>\n",
       "      <td>1.000000</td>\n",
       "      <td>0.000000</td>\n",
       "      <td>0.00000</td>\n",
       "      <td>0.000000</td>\n",
       "      <td>14.000000</td>\n",
       "      <td>0.000000</td>\n",
       "      <td>0.000000</td>\n",
       "      <td>1.000000</td>\n",
       "      <td>...</td>\n",
       "      <td>-1417.000100</td>\n",
       "      <td>-1417.000000</td>\n",
       "      <td>2.900000e+01</td>\n",
       "      <td>-1.417000e+03</td>\n",
       "      <td>-1417.000000</td>\n",
       "      <td>-1417.000000</td>\n",
       "      <td>-6.232499e+08</td>\n",
       "      <td>-13225.000000</td>\n",
       "      <td>2006.000000</td>\n",
       "      <td>1.000000</td>\n",
       "    </tr>\n",
       "    <tr>\n",
       "      <th>25%</th>\n",
       "      <td>989.750000</td>\n",
       "      <td>2.006062e+07</td>\n",
       "      <td>80.750000</td>\n",
       "      <td>1.000000</td>\n",
       "      <td>1645.00000</td>\n",
       "      <td>920.000000</td>\n",
       "      <td>80607.250000</td>\n",
       "      <td>1109.000000</td>\n",
       "      <td>71014.000000</td>\n",
       "      <td>1140.000000</td>\n",
       "      <td>...</td>\n",
       "      <td>57.000000</td>\n",
       "      <td>57.000000</td>\n",
       "      <td>9.550000e+02</td>\n",
       "      <td>6.700000e+01</td>\n",
       "      <td>66.000000</td>\n",
       "      <td>66.000000</td>\n",
       "      <td>6.800000e+01</td>\n",
       "      <td>19.000000</td>\n",
       "      <td>2010.000000</td>\n",
       "      <td>1706.000000</td>\n",
       "    </tr>\n",
       "    <tr>\n",
       "      <th>50%</th>\n",
       "      <td>1978.500000</td>\n",
       "      <td>2.006062e+07</td>\n",
       "      <td>165.500000</td>\n",
       "      <td>1.000000</td>\n",
       "      <td>2272.50000</td>\n",
       "      <td>1300.000000</td>\n",
       "      <td>151209.500000</td>\n",
       "      <td>1415.000000</td>\n",
       "      <td>150718.000000</td>\n",
       "      <td>1510.000000</td>\n",
       "      <td>...</td>\n",
       "      <td>100.999940</td>\n",
       "      <td>100.000000</td>\n",
       "      <td>1.515000e+03</td>\n",
       "      <td>1.350000e+02</td>\n",
       "      <td>134.000000</td>\n",
       "      <td>134.000000</td>\n",
       "      <td>1.400000e+02</td>\n",
       "      <td>34.000000</td>\n",
       "      <td>2014.000000</td>\n",
       "      <td>3370.000000</td>\n",
       "    </tr>\n",
       "    <tr>\n",
       "      <th>75%</th>\n",
       "      <td>2967.250000</td>\n",
       "      <td>2.006062e+07</td>\n",
       "      <td>252.250000</td>\n",
       "      <td>1.000000</td>\n",
       "      <td>178083.00000</td>\n",
       "      <td>1730.000000</td>\n",
       "      <td>230808.750000</td>\n",
       "      <td>1808.000000</td>\n",
       "      <td>230209.000000</td>\n",
       "      <td>1904.500000</td>\n",
       "      <td>...</td>\n",
       "      <td>197.000060</td>\n",
       "      <td>197.000000</td>\n",
       "      <td>3.118000e+03</td>\n",
       "      <td>4.097500e+02</td>\n",
       "      <td>398.500000</td>\n",
       "      <td>398.500000</td>\n",
       "      <td>4.300000e+02</td>\n",
       "      <td>64.000000</td>\n",
       "      <td>2017.000000</td>\n",
       "      <td>5094.000000</td>\n",
       "    </tr>\n",
       "    <tr>\n",
       "      <th>max</th>\n",
       "      <td>4058.000000</td>\n",
       "      <td>2.006062e+07</td>\n",
       "      <td>390.000000</td>\n",
       "      <td>2.000000</td>\n",
       "      <td>300506.00000</td>\n",
       "      <td>3112.000000</td>\n",
       "      <td>311220.000000</td>\n",
       "      <td>2359.000000</td>\n",
       "      <td>311316.000000</td>\n",
       "      <td>3130.000000</td>\n",
       "      <td>...</td>\n",
       "      <td>1210.000000</td>\n",
       "      <td>1210.000000</td>\n",
       "      <td>9.467228e+08</td>\n",
       "      <td>9.467228e+08</td>\n",
       "      <td>28305.000000</td>\n",
       "      <td>28305.000000</td>\n",
       "      <td>9.467231e+08</td>\n",
       "      <td>4183.062500</td>\n",
       "      <td>2020.000000</td>\n",
       "      <td>6786.000000</td>\n",
       "    </tr>\n",
       "  </tbody>\n",
       "</table>\n",
       "<p>8 rows × 1053 columns</p>\n",
       "</div>"
      ],
      "text/plain": [
       "            autoid      xtskjvdt     xnorsys    xsykehus    tidiktdold  \\\n",
       "count  3956.000000  1.018000e+03  344.000000  428.000000      50.00000   \n",
       "mean   1987.387513  2.004117e+07  176.784884    0.890187   84811.28000   \n",
       "std    1156.419335  6.205802e+05  113.369440    0.320417  108183.71659   \n",
       "min       1.000000  2.603190e+05    1.000000    0.000000       0.00000   \n",
       "25%     989.750000  2.006062e+07   80.750000    1.000000    1645.00000   \n",
       "50%    1978.500000  2.006062e+07  165.500000    1.000000    2272.50000   \n",
       "75%    2967.250000  2.006062e+07  252.250000    1.000000  178083.00000   \n",
       "max    4058.000000  2.006062e+07  390.000000    2.000000  300506.00000   \n",
       "\n",
       "           tidiktk        tidsykd      tidsykk        tidlegd      tidlegk  \\\n",
       "count  5029.000000    7434.000000  5809.000000    2937.000000  2434.000000   \n",
       "mean   1314.414794  156146.187517  1414.059391  152164.019748  1459.189811   \n",
       "std     536.456195   87966.621747   517.563332   88658.071684   576.435391   \n",
       "min       0.000000      14.000000     0.000000       0.000000     1.000000   \n",
       "25%     920.000000   80607.250000  1109.000000   71014.000000  1140.000000   \n",
       "50%    1300.000000  151209.500000  1415.000000  150718.000000  1510.000000   \n",
       "75%    1730.000000  230808.750000  1808.000000  230209.000000  1904.500000   \n",
       "max    3112.000000  311220.000000  2359.000000  311316.000000  3130.000000   \n",
       "\n",
       "       ...   amiktol0dk    miktol0dk      hourol06   qtiktol0min  \\\n",
       "count  ...  3233.000000  3233.000000  8.530000e+02  4.086000e+03   \n",
       "mean   ...   150.225184   150.121868  1.142382e+06  2.386044e+05   \n",
       "std    ...   193.047826   193.043102  3.241570e+07  1.481128e+07   \n",
       "min    ... -1417.000100 -1417.000000  2.900000e+01 -1.417000e+03   \n",
       "25%    ...    57.000000    57.000000  9.550000e+02  6.700000e+01   \n",
       "50%    ...   100.999940   100.000000  1.515000e+03  1.350000e+02   \n",
       "75%    ...   197.000060   197.000000  3.118000e+03  4.097500e+02   \n",
       "max    ...  1210.000000  1210.000000  9.467228e+08  9.467228e+08   \n",
       "\n",
       "         tiktol0min       iktmott     iktusdoor    doorneedle          aar  \\\n",
       "count   4066.000000   4066.000000  5.024000e+03   1389.000000  7544.000000   \n",
       "mean     680.121987    680.121987  6.533536e+04     -3.755355  2013.654162   \n",
       "std     1976.970523   1976.970523  1.599264e+07    789.367252     4.116085   \n",
       "min    -1417.000000  -1417.000000 -6.232499e+08 -13225.000000  2006.000000   \n",
       "25%       66.000000     66.000000  6.800000e+01     19.000000  2010.000000   \n",
       "50%      134.000000    134.000000  1.400000e+02     34.000000  2014.000000   \n",
       "75%      398.500000    398.500000  4.300000e+02     64.000000  2017.000000   \n",
       "max    28305.000000  28305.000000  9.467231e+08   4183.062500  2020.000000   \n",
       "\n",
       "             newid  \n",
       "count  7577.000000  \n",
       "mean   3389.966346  \n",
       "std    1957.873688  \n",
       "min       1.000000  \n",
       "25%    1706.000000  \n",
       "50%    3370.000000  \n",
       "75%    5094.000000  \n",
       "max    6786.000000  \n",
       "\n",
       "[8 rows x 1053 columns]"
      ]
     },
     "execution_count": 35,
     "metadata": {},
     "output_type": "execute_result"
    }
   ],
   "source": [
    "df.describe()"
   ]
  },
  {
   "cell_type": "code",
   "execution_count": null,
   "metadata": {},
   "outputs": [],
   "source": [
    "df.slagt.value_counts(), df.slagt.value_counts(normalize=True)"
   ]
  },
  {
   "cell_type": "code",
   "execution_count": null,
   "metadata": {},
   "outputs": [],
   "source": [
    "for a in list(df):\n",
    "    if 'opp' in a:\n",
    "        print(a)"
   ]
  },
  {
   "cell_type": "code",
   "execution_count": null,
   "metadata": {},
   "outputs": [],
   "source": [
    "df[['xtopphd',\n",
    "'xtopphdx',\n",
    "'xtopph',\n",
    "'goppholdnr',\n",
    "'oppholdsnummer',\n",
    "'opphold1' ] ].describe()"
   ]
  },
  {
   "cell_type": "code",
   "execution_count": null,
   "metadata": {},
   "outputs": [],
   "source": [
    "df.tcvhinf.value_counts(normalize=True), df.tcv.value_counts(normalize=True)"
   ]
  },
  {
   "cell_type": "code",
   "execution_count": null,
   "metadata": {},
   "outputs": [],
   "source": [
    "df[(df.oppholdsnummer==1)&(df.age>0)&(df.age<100) ].age.describe(), df[(df.oppholdsnummer>=2) &(df.age>0)&(df.age<100)].age.describe()"
   ]
  },
  {
   "cell_type": "code",
   "execution_count": 3,
   "metadata": {},
   "outputs": [
    {
     "name": "stdout",
     "output_type": "stream",
     "text": [
      "(7578, 1640)\n",
      "(7525, 1640)\n"
     ]
    }
   ],
   "source": [
    "print(df.shape)\n",
    "df=df[(df.age>0)&(df.age<100) ]\n",
    "print(df.shape)"
   ]
  },
  {
   "cell_type": "code",
   "execution_count": 4,
   "metadata": {},
   "outputs": [],
   "source": [
    "df_1 = df.copy()\n",
    "df_2 = df.copy()"
   ]
  },
  {
   "cell_type": "code",
   "execution_count": 5,
   "metadata": {},
   "outputs": [],
   "source": [
    "df_1=df_1[(df.oppholdsnummer==1)]\n",
    "df_2=df_2[(df.oppholdsnummer==2)]"
   ]
  },
  {
   "cell_type": "code",
   "execution_count": 6,
   "metadata": {},
   "outputs": [
    {
     "name": "stdout",
     "output_type": "stream",
     "text": [
      "(6740, 1640)\n",
      "(6740, 1642)\n"
     ]
    }
   ],
   "source": [
    "print(df_1.shape)\n",
    "df_12 = df_1.merge(df_2[['newid','slagt','aar'] ], how='left', on='newid')\n",
    "print(df_12.shape)"
   ]
  },
  {
   "cell_type": "code",
   "execution_count": null,
   "metadata": {},
   "outputs": [],
   "source": [
    "df_12.head()"
   ]
  },
  {
   "cell_type": "code",
   "execution_count": 7,
   "metadata": {},
   "outputs": [
    {
     "name": "stdout",
     "output_type": "stream",
     "text": [
      "3\n",
      "0\n"
     ]
    }
   ],
   "source": [
    "print(df_12.slagt_x.isna().sum())\n",
    "df_12 = df_12[~df_12.slagt_x.isna()]\n",
    "print(df_12.slagt_x.isna().sum())"
   ]
  },
  {
   "cell_type": "code",
   "execution_count": 8,
   "metadata": {},
   "outputs": [
    {
     "data": {
      "text/plain": [
       "count    635.000000\n",
       "mean       2.609449\n",
       "std        2.886699\n",
       "min       -5.000000\n",
       "25%        0.000000\n",
       "50%        2.000000\n",
       "75%        4.000000\n",
       "max       14.000000\n",
       "Name: years_between_stroke, dtype: float64"
      ]
     },
     "execution_count": 8,
     "metadata": {},
     "output_type": "execute_result"
    }
   ],
   "source": [
    "df_12['years_between_stroke'] = df_12['aar_y']-df_12['aar_x']\n",
    "df_12['years_between_stroke'].describe()"
   ]
  },
  {
   "cell_type": "code",
   "execution_count": 11,
   "metadata": {},
   "outputs": [
    {
     "name": "stderr",
     "output_type": "stream",
     "text": [
      "c:\\Miniconda\\envs\\py38_default\\lib\\site-packages\\seaborn\\_decorators.py:36: FutureWarning: Pass the following variable as a keyword arg: x. From version 0.12, the only valid positional argument will be `data`, and passing other arguments without an explicit keyword will result in an error or misinterpretation.\n",
      "  warnings.warn(\n"
     ]
    },
    {
     "data": {
      "text/plain": [
       "<AxesSubplot:xlabel='years_between_stroke', ylabel='count'>"
      ]
     },
     "execution_count": 11,
     "metadata": {},
     "output_type": "execute_result"
    },
    {
     "data": {
      "image/png": "[encoded data removed]",
      "text/plain": [
       "<Figure size 432x288 with 1 Axes>"
      ]
     },
     "metadata": {
      "needs_background": "light"
     },
     "output_type": "display_data"
    }
   ],
   "source": [
    "sns.countplot(df_12['years_between_stroke'])"
   ]
  },
  {
   "cell_type": "code",
   "execution_count": 12,
   "metadata": {},
   "outputs": [
    {
     "name": "stdout",
     "output_type": "stream",
     "text": [
      "(6737, 1643)\n",
      "(6480, 1643)\n"
     ]
    }
   ],
   "source": [
    "print(df_12.shape)\n",
    "df_12 = df_12[((df_12['years_between_stroke']>=0)&(df_12['years_between_stroke']<=2))|(df_12['years_between_stroke'].isna())]\n",
    "print(df_12.shape)"
   ]
  },
  {
   "cell_type": "code",
   "execution_count": 13,
   "metadata": {},
   "outputs": [
    {
     "name": "stdout",
     "output_type": "stream",
     "text": [
      "6101\n",
      "0\n"
     ]
    }
   ],
   "source": [
    "print(df_12['slagt_y' ].isna().sum())\n",
    "df_12[['slagt_y' ]] = df_12[['slagt_y' ]].fillna('No stroke')\n",
    "df_12['slagt_y' ].unique()\n",
    "print(df_12['slagt_y' ].isna().sum())"
   ]
  },
  {
   "cell_type": "code",
   "execution_count": 14,
   "metadata": {},
   "outputs": [],
   "source": [
    "df_12['2nd_stroke_in_2years']=np.where(df_12['years_between_stroke']>=0,1,0)"
   ]
  },
  {
   "cell_type": "code",
   "execution_count": 16,
   "metadata": {},
   "outputs": [
    {
     "data": {
      "text/plain": [
       "(count    6480.000000\n",
       " mean        0.058333\n",
       " std         0.234391\n",
       " min         0.000000\n",
       " 25%         0.000000\n",
       " 50%         0.000000\n",
       " 75%         0.000000\n",
       " max         1.000000\n",
       " Name: 2nd_stroke_in_2years, dtype: float64,\n",
       " 378)"
      ]
     },
     "execution_count": 16,
     "metadata": {},
     "output_type": "execute_result"
    }
   ],
   "source": [
    "df_12['2nd_stroke_in_2years'].describe(), df_12['2nd_stroke_in_2years'].sum()"
   ]
  },
  {
   "cell_type": "code",
   "execution_count": 19,
   "metadata": {},
   "outputs": [
    {
     "name": "stdout",
     "output_type": "stream",
     "text": [
      "(6480, 1644)\n",
      "(5520, 1644)\n"
     ]
    }
   ],
   "source": [
    "print(df_12.shape)\n",
    "df_12 = df_12[df_12['aar_x']<=2018]\n",
    "print(df_12.shape)"
   ]
  },
  {
   "cell_type": "code",
   "execution_count": 20,
   "metadata": {},
   "outputs": [
    {
     "data": {
      "text/plain": [
       "0.06847826086956521"
      ]
     },
     "execution_count": 20,
     "metadata": {},
     "output_type": "execute_result"
    }
   ],
   "source": [
    "sns.countplot()"
   ]
  },
  {
   "cell_type": "code",
   "execution_count": null,
   "metadata": {
    "tags": []
   },
   "outputs": [],
   "source": [
    "cs_12 = cs(df_12.slagt_x, df_12.slagt_y, normalize='true')\n",
    "cs_12_raw = cs(df_12.slagt_x, df_12.slagt_y)\n",
    "cs_12, cs_12_raw"
   ]
  },
  {
   "cell_type": "code",
   "execution_count": 10,
   "metadata": {},
   "outputs": [],
   "source": [
    "import seaborn as sns\n",
    "import matplotlib.pyplot as plt \n",
    "import numpy as np"
   ]
  },
  {
   "cell_type": "code",
   "execution_count": null,
   "metadata": {},
   "outputs": [],
   "source": [
    "df_12.slagt_x.value_counts(), df_12.slagt_x.value_counts(normalize=True) "
   ]
  },
  {
   "cell_type": "code",
   "execution_count": 21,
   "metadata": {},
   "outputs": [
    {
     "data": {
      "image/png": "[encoded data removed]",
      "text/plain": [
       "<Figure size 432x288 with 1 Axes>"
      ]
     },
     "metadata": {
      "needs_background": "light"
     },
     "output_type": "display_data"
    }
   ],
   "source": [
    "labels=['Herneinfarkt','Intracerebral blødning','TIA']\n",
    "#Hjerneinfarkt             0.806739\n",
    "#Intracerebral blødning    0.103459\n",
    "#TIA                       0.089803\n",
    "X_axis = np.arange(len(labels))\n",
    "plt.bar(X_axis-0.2, [ 0.806739, 0.103459,0.089803],0.4,label='Først stroke' )\n",
    "plt.bar(X_axis+0.2,  [433/(433+32+51),32/(433+32+51),51/(433+32+51)],\n",
    "        0.4 ,label='Antakelse først stroke var Hjerneinfarkt')\n",
    "\n",
    "plt.xticks(X_axis, labels)\n",
    "plt.xlabel(\"Groups\")\n",
    "plt.ylabel(\"\")\n",
    "plt.title(\"Fordeling av typer under antakelse stroke og stroke før var Herneinfarkt\")\n",
    "plt.legend()\n",
    "plt.show()"
   ]
  },
  {
   "cell_type": "code",
   "execution_count": 22,
   "metadata": {},
   "outputs": [
    {
     "data": {
      "image/png": "[encoded data removed]",
      "text/plain": [
       "<Figure size 432x288 with 1 Axes>"
      ]
     },
     "metadata": {
      "needs_background": "light"
     },
     "output_type": "display_data"
    }
   ],
   "source": [
    "total = 0.03730273 + 0.04447633 + 0.00143472\n",
    "total_raw = 26+   31+    1\n",
    "\n",
    "labels=['Cerebral infarction','Intracerebral hemorrhage','TIA']\n",
    "#Hjerneinfarkt             0.806739\n",
    "#Intracerebral blødning    0.103459\n",
    "#TIA                       0.089803\n",
    "X_axis = np.arange(len(labels))\n",
    "plt.bar(X_axis-0.2, [ 0.806739, 0.103459,0.089803],0.4,label='Først stroke' )\n",
    "plt.bar(X_axis+0.2,  [26/total_raw,31/total_raw,1/total_raw],\n",
    "        0.4 ,label='Antakelse først stroke var Intracerebral blødning')\n",
    "\n",
    "plt.xticks(X_axis, labels)\n",
    "plt.xlabel(\"Groups\")\n",
    "plt.ylabel(\"\")\n",
    "plt.title(\"Fordeling av typer under antakelse stroke og stroke før var Intracerebral blødning\")\n",
    "plt.legend()\n",
    "plt.show()"
   ]
  },
  {
   "cell_type": "code",
   "execution_count": 23,
   "metadata": {},
   "outputs": [
    {
     "data": {
      "image/png": "[encoded data removed]",
      "text/plain": [
       "<Figure size 432x288 with 1 Axes>"
      ]
     },
     "metadata": {
      "needs_background": "light"
     },
     "output_type": "display_data"
    }
   ],
   "source": [
    "total_raw = 36+  4+  19\n",
    "\n",
    "labels=['Herneinfarkt','Intracerebral blødning','TIA']\n",
    "#Hjerneinfarkt             0.806739\n",
    "#Intracerebral blødning    0.103459\n",
    "#TIA                       0.089803\n",
    "X_axis = np.arange(len(labels))\n",
    "plt.bar(X_axis-0.2, [ 0.806739, 0.103459,0.089803],0.4,label='Først stroke' )\n",
    "plt.bar(X_axis+0.2,  [36/total_raw,4/total_raw,19/total_raw],\n",
    "        0.4 ,label='Antakelse først stroke var TIA')\n",
    "\n",
    "plt.xticks(X_axis, labels)\n",
    "plt.xlabel(\"Groups\")\n",
    "plt.ylabel(\"\")\n",
    "plt.title(\"Fordeling av typer under antakelse stroke og stroke før var TIA\")\n",
    "plt.legend()\n",
    "plt.show()"
   ]
  },
  {
   "cell_type": "code",
   "execution_count": null,
   "metadata": {},
   "outputs": [],
   "source": []
  },
  {
   "cell_type": "code",
   "execution_count": null,
   "metadata": {},
   "outputs": [],
   "source": [
    "df_12.slagt_y.isna().sum(), df_12.slagt_y.value_counts() , df_12.slagt_y.value_counts(normalize=True ), df_12.slagt_x.value_counts( )"
   ]
  },
  {
   "cell_type": "code",
   "execution_count": 24,
   "metadata": {},
   "outputs": [
    {
     "name": "stdout",
     "output_type": "stream",
     "text": [
      "(5520, 1644)\n",
      "(4438, 1644)\n"
     ]
    }
   ],
   "source": [
    "print(df_12.shape)\n",
    "df_12_uTIA = df_12[df_12.slagt_x=='Hjerneinfarkt' ]\n",
    "print(df_12_uTIA.shape)"
   ]
  },
  {
   "cell_type": "code",
   "execution_count": null,
   "metadata": {},
   "outputs": [],
   "source": [
    "df_12_uTIA.slagt_x.value_counts(normalize=True ), df_12_uTIA.slagt_x.value_counts( ), df_12_uTIA.slagt_y.value_counts(normalize=True ), df_12_uTIA.slagt_y.value_counts( )"
   ]
  },
  {
   "cell_type": "code",
   "execution_count": 25,
   "metadata": {},
   "outputs": [
    {
     "data": {
      "text/plain": [
       "(4438, 1644)"
      ]
     },
     "execution_count": 25,
     "metadata": {},
     "output_type": "execute_result"
    }
   ],
   "source": [
    "df_12_uTIA = df_12_uTIA[~df_12_uTIA.slagt_x.isna()]\n",
    "df_12_uTIA = df_12_uTIA[(df_12_uTIA.age>0)&(df_12_uTIA.age<100)]\n",
    "df_12_uTIA.shape"
   ]
  },
  {
   "cell_type": "code",
   "execution_count": null,
   "metadata": {},
   "outputs": [],
   "source": [
    "from sklearn.metrics import confusion_matrix as cs"
   ]
  },
  {
   "cell_type": "code",
   "execution_count": null,
   "metadata": {},
   "outputs": [],
   "source": [
    "print(df_12_uTIA['slagt_y' ].isna().sum())\n",
    "df_12_uTIA[['slagt_y' ]] = df_12_uTIA[['slagt_y' ]].fillna('No stroke')\n",
    "df_12_uTIA['slagt_y' ].unique()\n",
    "print(df_12_uTIA['slagt_y' ].isna().sum())"
   ]
  },
  {
   "cell_type": "code",
   "execution_count": 26,
   "metadata": {},
   "outputs": [
    {
     "name": "stdout",
     "output_type": "stream",
     "text": [
      "(4438, 1644)\n",
      "(4432, 1644)\n"
     ]
    }
   ],
   "source": [
    "print(df_12_uTIA.shape)\n",
    "df_12_uTIA=df_12_uTIA[~df_12_uTIA.mrs.isna()]\n",
    "print(df_12_uTIA.shape)"
   ]
  },
  {
   "cell_type": "code",
   "execution_count": 28,
   "metadata": {},
   "outputs": [],
   "source": [
    "import joblib"
   ]
  },
  {
   "cell_type": "code",
   "execution_count": 29,
   "metadata": {},
   "outputs": [
    {
     "data": {
      "text/plain": [
       "['training_data.sav']"
      ]
     },
     "execution_count": 29,
     "metadata": {},
     "output_type": "execute_result"
    }
   ],
   "source": [
    "joblib.dump(df_12_uTIA,'training_data.sav')"
   ]
  },
  {
   "cell_type": "code",
   "execution_count": null,
   "metadata": {},
   "outputs": [],
   "source": [
    "df_12_uTIA['slagt_y' ].isna().sum()"
   ]
  },
  {
   "cell_type": "code",
   "execution_count": null,
   "metadata": {
    "tags": []
   },
   "outputs": [],
   "source": [
    "cs_12 = cs(df_12_uTIA.slagt_x, df_12_uTIA.slagt_y, normalize='true') #,labels=['Herneinfarkt',\n",
    "                                            #       'Intracerebral blødning',\n",
    "                                             #      'No stroke',\n",
    "                                              #     'TIA']"
   ]
  },
  {
   "cell_type": "code",
   "execution_count": null,
   "metadata": {
    "tags": []
   },
   "outputs": [],
   "source": [
    "cs_12"
   ]
  },
  {
   "cell_type": "code",
   "execution_count": null,
   "metadata": {},
   "outputs": [],
   "source": [
    "0.07929837 /(0.07929837+ 0.00584688+  0.00950119)"
   ]
  },
  {
   "cell_type": "code",
   "execution_count": null,
   "metadata": {},
   "outputs": [],
   "source": [
    "cs_12[1 ,1 ] / (cs_12[1,: ].sum()-cs_12[1,2 ])"
   ]
  },
  {
   "cell_type": "code",
   "execution_count": null,
   "metadata": {},
   "outputs": [],
   "source": [
    "import seaborn as sb"
   ]
  },
  {
   "cell_type": "code",
   "execution_count": null,
   "metadata": {},
   "outputs": [],
   "source": [
    "df_12_uTIA.sex.unique()"
   ]
  },
  {
   "cell_type": "code",
   "execution_count": null,
   "metadata": {},
   "outputs": [],
   "source": [
    "df_12_uTIA[categorical_features].isna().sum()"
   ]
  },
  {
   "cell_type": "code",
   "execution_count": null,
   "metadata": {},
   "outputs": [],
   "source": [
    "categorical_features = ['sex','slagt_x','slagt_y','tht','trok','taflp','taflk','tdiab','tangina','thjan','tcarotis', \n",
    "                       'taovent',] #'taflp','taflk' if one true create column"
   ]
  },
  {
   "cell_type": "code",
   "execution_count": null,
   "metadata": {},
   "outputs": [],
   "source": [
    "sb.countplot(data=df_12_uTIA[df_12_uTIA.sex=='Male'],x='tcarotis',hue='slagt_y')"
   ]
  },
  {
   "cell_type": "code",
   "execution_count": null,
   "metadata": {},
   "outputs": [],
   "source": [
    "sb.countplot(data=df_12_uTIA[df_12_uTIA.sex=='Female'],x='tcarotis',hue='slagt_y')"
   ]
  },
  {
   "cell_type": "code",
   "execution_count": null,
   "metadata": {},
   "outputs": [],
   "source": [
    "import joblib\n",
    "df_12_uTIA = joblib.load('training_data.sav')"
   ]
  },
  {
   "cell_type": "code",
   "execution_count": null,
   "metadata": {},
   "outputs": [],
   "source": [
    "sns.countplot(data=df_12_uTIA,hue='utoast',x='slagt_x')"
   ]
  },
  {
   "cell_type": "code",
   "execution_count": null,
   "metadata": {
    "tags": []
   },
   "outputs": [],
   "source": [
    "for cat in categorical_features:\n",
    "    pl = sb.countplot(data=df_12_uTIA,x=cat,hue='slagt_y')\n",
    "    sb.plot(pl)"
   ]
  },
  {
   "cell_type": "code",
   "execution_count": null,
   "metadata": {},
   "outputs": [],
   "source": [
    "df_12_uTIA.sex.value_counts(normalize=True)"
   ]
  },
  {
   "cell_type": "code",
   "execution_count": 37,
   "metadata": {},
   "outputs": [
    {
     "data": {
      "text/plain": [
       "<seaborn.axisgrid.PairGrid at 0x164007bea30>"
      ]
     },
     "execution_count": 37,
     "metadata": {},
     "output_type": "execute_result"
    },
    {
     "data": {
      "image/png": "[encoded data removed]",
      "text/plain": [
       "<Figure size 432.125x360 with 6 Axes>"
      ]
     },
     "metadata": {
      "needs_background": "light"
     },
     "output_type": "display_data"
    }
   ],
   "source": [
    "\n",
    "sns.pairplot(df_12_uTIA[['age','nihssinn','tsivil','sex']], \n",
    "            hue='sex', diag_kind=\"hist\", kind='hist')"
   ]
  },
  {
   "cell_type": "code",
   "execution_count": 32,
   "metadata": {},
   "outputs": [
    {
     "name": "stdout",
     "output_type": "stream",
     "text": [
      "Male\n"
     ]
    },
    {
     "data": {
      "text/plain": [
       "<seaborn.axisgrid.PairGrid at 0x16457a05a30>"
      ]
     },
     "execution_count": 32,
     "metadata": {},
     "output_type": "execute_result"
    },
    {
     "data": {
      "image/png": "[encoded data removed]",
      "text/plain": [
       "<Figure size 411.375x360 with 6 Axes>"
      ]
     },
     "metadata": {
      "needs_background": "light"
     },
     "output_type": "display_data"
    }
   ],
   "source": [
    "print('Male')\n",
    "sns.pairplot(df_12_uTIA[df_12_uTIA.sex=='Male'][['age','nihssinn','tsivil']], \n",
    "            hue='tsivil', diag_kind=\"hist\", kind='hist')"
   ]
  },
  {
   "cell_type": "code",
   "execution_count": 33,
   "metadata": {},
   "outputs": [
    {
     "name": "stdout",
     "output_type": "stream",
     "text": [
      "Female\n"
     ]
    },
    {
     "data": {
      "text/plain": [
       "<seaborn.axisgrid.PairGrid at 0x164004509d0>"
      ]
     },
     "execution_count": 33,
     "metadata": {},
     "output_type": "execute_result"
    },
    {
     "data": {
      "image/png": "[encoded data removed]",
      "text/plain": [
       "<Figure size 411.375x360 with 6 Axes>"
      ]
     },
     "metadata": {
      "needs_background": "light"
     },
     "output_type": "display_data"
    }
   ],
   "source": [
    "print('Female')\n",
    "sns.pairplot(df_12_uTIA[df_12_uTIA.sex=='Female'][['age','nihssinn','tsivil']], \n",
    "            hue='tsivil', diag_kind=\"hist\", kind='hist')"
   ]
  },
  {
   "cell_type": "code",
   "execution_count": null,
   "metadata": {},
   "outputs": [],
   "source": [
    "sb.countplot()"
   ]
  },
  {
   "cell_type": "code",
   "execution_count": null,
   "metadata": {},
   "outputs": [],
   "source": [
    "df.mrs.unique(), df.mrs.value_counts(), df.mrs.isna().sum()"
   ]
  }
 ],
 "metadata": {
  "kernelspec": {
   "display_name": "Python 3.8 - default",
   "language": "python",
   "name": "py38_default"
  },
  "language_info": {
   "codemirror_mode": {
    "name": "ipython",
    "version": 3
   },
   "file_extension": ".py",
   "mimetype": "text/x-python",
   "name": "python",
   "nbconvert_exporter": "python",
   "pygments_lexer": "ipython3",
   "version": "3.8.5"
  }
 },
 "nbformat": 4,
 "nbformat_minor": 4
}
